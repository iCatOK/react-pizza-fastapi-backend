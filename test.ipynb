{
 "cells": [
  {
   "cell_type": "markdown",
   "metadata": {},
   "source": [
    "### Тест удаления книги (успешно)"
   ]
  },
  {
   "cell_type": "code",
   "execution_count": 2,
   "metadata": {},
   "outputs": [
    {
     "name": "stdout",
     "output_type": "stream",
     "text": [
      "2022-11-29 19:40:09,883 INFO sqlalchemy.engine.Engine BEGIN (implicit)\n",
      "2022-11-29 19:40:09,883 INFO sqlalchemy.engine.Engine DELETE FROM books WHERE books.id = ?\n",
      "2022-11-29 19:40:09,884 INFO sqlalchemy.engine.Engine [cached since 30.88s ago] (1,)\n",
      "2022-11-29 19:40:09,887 INFO sqlalchemy.engine.Engine COMMIT\n"
     ]
    }
   ],
   "source": [
    "from database.repositories import BookRepository\n",
    "from database.config import async_session\n",
    "\n",
    "async with async_session() as session:\n",
    "    async with session.begin():\n",
    "        repo = BookRepository(session)\n",
    "        await repo.delete_book(book_id=1)"
   ]
  },
  {
   "cell_type": "code",
   "execution_count": 9,
   "metadata": {},
   "outputs": [
    {
     "name": "stdout",
     "output_type": "stream",
     "text": [
      "2022-11-30 20:26:04,266 INFO sqlalchemy.engine.Engine BEGIN (implicit)\n",
      "2022-11-30 20:26:04,267 INFO sqlalchemy.engine.Engine SELECT users.id, users.username, users.hashed_password, addresses_1.id AS id_1, addresses_1.user_id, addresses_1.address, order_items_1.id AS id_2, order_items_1.order_id, order_items_1.description, order_items_1.cost, orders_1.id AS id_3, orders_1.user_id AS user_id_1, orders_1.order_date, orders_1.general_cost, orders_1.status, orders_1.address AS address_1 \n",
      "FROM users LEFT OUTER JOIN addresses AS addresses_1 ON users.id = addresses_1.user_id LEFT OUTER JOIN orders AS orders_1 ON users.id = orders_1.user_id LEFT OUTER JOIN order_items AS order_items_1 ON orders_1.id = order_items_1.order_id \n",
      "WHERE users.username = ?\n",
      "2022-11-30 20:26:04,267 INFO sqlalchemy.engine.Engine [cached since 2.436e+04s ago] ('123456',)\n",
      "0\n",
      "2022-11-30 20:26:04,272 INFO sqlalchemy.engine.Engine COMMIT\n"
     ]
    }
   ],
   "source": [
    "from database.repositories import UserRepository\n",
    "from database.config import async_session\n",
    "\n",
    "async with async_session() as session:\n",
    "    async with session.begin():\n",
    "        repo = UserRepository(session)\n",
    "        user = await repo.get_user_by_username(username='123456')\n",
    "        print(len(user.orders))"
   ]
  },
  {
   "cell_type": "code",
   "execution_count": 3,
   "metadata": {},
   "outputs": [
    {
     "data": {
      "text/plain": [
       "[]"
      ]
     },
     "execution_count": 3,
     "metadata": {},
     "output_type": "execute_result"
    }
   ],
   "source": [
    "from database.repositories import UserRepository\n",
    "from database.models import user as u\n",
    "from database.config import async_session\n",
    "\n",
    "user = u.User(username='aaa')\n",
    "user.addresses\n"
   ]
  },
  {
   "cell_type": "code",
   "execution_count": null,
   "metadata": {},
   "outputs": [],
   "source": []
  }
 ],
 "metadata": {
  "kernelspec": {
   "display_name": "Python 3.10.5 64-bit",
   "language": "python",
   "name": "python3"
  },
  "language_info": {
   "codemirror_mode": {
    "name": "ipython",
    "version": 3
   },
   "file_extension": ".py",
   "mimetype": "text/x-python",
   "name": "python",
   "nbconvert_exporter": "python",
   "pygments_lexer": "ipython3",
   "version": "3.10.5"
  },
  "orig_nbformat": 4,
  "vscode": {
   "interpreter": {
    "hash": "26de051ba29f2982a8de78e945f0abaf191376122a1563185a90213a26c5da77"
   }
  }
 },
 "nbformat": 4,
 "nbformat_minor": 2
}
